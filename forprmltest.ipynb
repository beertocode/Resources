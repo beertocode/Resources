{
  "nbformat": 4,
  "nbformat_minor": 0,
  "metadata": {
    "colab": {
      "name": "forprmltest.ipynb",
      "provenance": [],
      "collapsed_sections": [],
      "authorship_tag": "ABX9TyPBTa2tC1iU/9MjBT096ZpN",
      "include_colab_link": true
    },
    "kernelspec": {
      "name": "python3",
      "display_name": "Python 3"
    }
  },
  "cells": [
    {
      "cell_type": "markdown",
      "metadata": {
        "id": "view-in-github",
        "colab_type": "text"
      },
      "source": [
        "<a href=\"https://colab.research.google.com/github/beertocode/Resources/blob/master/forprmltest.ipynb\" target=\"_parent\"><img src=\"https://colab.research.google.com/assets/colab-badge.svg\" alt=\"Open In Colab\"/></a>"
      ]
    },
    {
      "cell_type": "code",
      "metadata": {
        "colab": {
          "base_uri": "https://localhost:8080/"
        },
        "id": "WYvc3682bWIC",
        "outputId": "246b4fec-14ba-43af-ae5c-196d7f83d215"
      },
      "source": [
        "#PCA DIMENSIONALITY REDUCTION TRANSFORMATION CODE\r\n",
        "from numpy import array\r\n",
        "from numpy import mean\r\n",
        "from numpy import cov\r\n",
        "from numpy.linalg import eig\r\n",
        "from numpy.linalg import eigh\r\n",
        "\r\n",
        "#  3×2 matrix\r\n",
        "matrix = array([[5, 6, 1], [8, 10,6], [12, 18,12]])\r\n",
        "print(\"original Matrix: \",\"\\n\")\r\n",
        "print(matrix)\r\n",
        "\r\n",
        "# calculate the mean of each column\r\n",
        "Mean_col = mean(matrix.T, axis=1)\r\n",
        "print(\"Mean of each column: \",\"\\n\")\r\n",
        "print(Mean_col)\r\n",
        "\r\n",
        "# center columns by subtracting column means\r\n",
        "Centre_col = matrix - Mean_col\r\n",
        "print(\"After zero centering: \",\"\\n\")\r\n",
        "print(Centre_col)\r\n",
        "\r\n",
        "# calculate covariance matrix of centered matrix\r\n",
        "cov_matrix = cov(Centre_col.T)\r\n",
        "print(\"covariance matrix: \",\"\\n\")\r\n",
        "print(cov_matrix)\r\n",
        "\r\n",
        "# eigendecomposition of covariance matrix\r\n",
        "values, vectors = eig(cov_matrix)\r\n",
        "dict={}\r\n",
        "n=len(values)\r\n",
        "for i in range(n):\r\n",
        "  dict[values[i]]=vectors[i]\r\n",
        "l=list(dict.items())\r\n",
        "l.sort(reverse=True) #sort in reverse order\r\n",
        "print('Descending order is:\\n',l)\r\n"
      ],
      "execution_count": 22,
      "outputs": [
        {
          "output_type": "stream",
          "text": [
            "original Matrix:  \n",
            "\n",
            "[[ 5  6  1]\n",
            " [ 8 10  6]\n",
            " [12 18 12]]\n",
            "Mean of each column:  \n",
            "\n",
            "[ 8.33333333 11.33333333  6.33333333]\n",
            "After zero centering:  \n",
            "\n",
            "[[-3.33333333 -5.33333333 -5.33333333]\n",
            " [-0.33333333 -1.33333333 -0.33333333]\n",
            " [ 3.66666667  6.66666667  5.66666667]]\n",
            "covariance matrix:  \n",
            "\n",
            "[[12.33333333 21.33333333 19.33333333]\n",
            " [21.33333333 37.33333333 33.33333333]\n",
            " [19.33333333 33.33333333 30.33333333]]\n",
            "Descending order is:\n",
            " [(79.66106403010394, array([-0.393176  , -0.88888889,  0.23513651])), (0.3389359698961162, array([-0.61561195,  0.44444444,  0.65076191])), (1.6761347011621186e-15, array([-0.68296014,  0.11111111, -0.72195551]))]\n"
          ],
          "name": "stdout"
        }
      ]
    },
    {
      "cell_type": "code",
      "metadata": {
        "colab": {
          "base_uri": "https://localhost:8080/"
        },
        "id": "-Bhk8sOMj65Q",
        "outputId": "6e0cd6f0-cead-45b3-ecbd-0e45cd4d1669"
      },
      "source": [
        "d=len(l) #d is dimention of eigenvector matrix\r\n",
        "e=[]\r\n",
        "lambdav=[]\r\n",
        "for i in range(d):\r\n",
        "  lambdav.append(l[i][0])\r\n",
        "  e.append(l[i][1])\r\n",
        "print(\"eigenvalues in descending order:\\n\",lambdav,\"\\n\")\r\n",
        "print(\"eigenvector matrix according to descending ordeer of eigenvalues:\\n\",e)\r\n",
        "\r\n"
      ],
      "execution_count": 31,
      "outputs": [
        {
          "output_type": "stream",
          "text": [
            "eigenvalues in descending order:\n",
            " [79.66106403010394, 0.3389359698961162, 1.6761347011621186e-15] \n",
            "\n",
            "eigenvector matrix according to descending ordeer of eigenvalues:\n",
            " [array([-0.393176  , -0.88888889,  0.23513651]), array([-0.61561195,  0.44444444,  0.65076191]), array([-0.68296014,  0.11111111, -0.72195551])]\n"
          ],
          "name": "stdout"
        }
      ]
    },
    {
      "cell_type": "code",
      "metadata": {
        "id": "kW8SWxxzkJNX"
      },
      "source": [
        "#CONSTRUCTING TRANSFORMATION MATRIX\r\n",
        "#selecting m higher eigenvalues and finding rho_m\r\n",
        "def msum(lambdav,m,sd):\r\n",
        "  sm=0  #for sum of top m eigenvalues\r\n",
        "  for i in range(m):\r\n",
        "    sm=sm+lambdav[i]\r\n",
        "  return sm/sd\r\n"
      ],
      "execution_count": 38,
      "outputs": []
    },
    {
      "cell_type": "code",
      "metadata": {
        "id": "SxnnetiFmqoe"
      },
      "source": [
        "#sd=sum of all eigenvalues\r\n",
        "sd=0  #for sum of all eigenvalues\r\n",
        "for i in range(d):\r\n",
        "  sd=sd+lambdav[i]\r\n",
        "sd\r\n",
        "#setting eta threshold\r\n",
        "eta=0.9\r\n",
        "cnt=0 #no. of vectors in transformation matrix\r\n",
        "for i in range(1,d+1):\r\n",
        "  if(msum(lambdav,i,sd)>eta):\r\n",
        "    cnt+=1;\r\n",
        "  else:\r\n",
        "    break\r\n"
      ],
      "execution_count": 57,
      "outputs": []
    },
    {
      "cell_type": "code",
      "metadata": {
        "colab": {
          "base_uri": "https://localhost:8080/"
        },
        "id": "tyfu-p3Om9ZU",
        "outputId": "66b2b35a-66c4-4b67-93bd-b17e08ddfc53"
      },
      "source": [
        "#transformation matrix Q\r\n",
        "Q=[]\r\n",
        "for i in range(cnt):\r\n",
        "  Q.append(e[i])\r\n",
        "Q"
      ],
      "execution_count": 58,
      "outputs": [
        {
          "output_type": "execute_result",
          "data": {
            "text/plain": [
              "[array([-0.393176  , -0.88888889,  0.23513651]),\n",
              " array([-0.61561195,  0.44444444,  0.65076191]),\n",
              " array([-0.68296014,  0.11111111, -0.72195551])]"
            ]
          },
          "metadata": {
            "tags": []
          },
          "execution_count": 58
        }
      ]
    }
  ]
}